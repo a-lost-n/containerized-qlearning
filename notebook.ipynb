{
 "cells": [
  {
   "cell_type": "code",
   "execution_count": 1,
   "metadata": {},
   "outputs": [],
   "source": [
    "import gymnasium as gym\n",
    "from gymnasium.envs.toy_text.frozen_lake import generate_random_map\n",
    "from IPython.display import clear_output\n",
    "import numpy as np\n",
    "import time\n",
    "from qlearning import Environment"
   ]
  },
  {
   "cell_type": "code",
   "execution_count": 2,
   "metadata": {},
   "outputs": [
    {
     "name": "stdout",
     "output_type": "stream",
     "text": [
      "<numpy.lib.npyio.NpzFile object at 0x7f0d90192c10>\n"
     ]
    }
   ],
   "source": [
    "main = Environment(filename=\"model/model.npz\")"
   ]
  },
  {
   "cell_type": "code",
   "execution_count": null,
   "metadata": {},
   "outputs": [],
   "source": [
    "print(main.qtable)"
   ]
  },
  {
   "cell_type": "code",
   "execution_count": 2,
   "metadata": {},
   "outputs": [
    {
     "name": "stdout",
     "output_type": "stream",
     "text": [
      "Solution was found after 352.35s and 1000000 episodes.\n",
      "Solution was found after 352.35s and 1000000 episodes.\n"
     ]
    }
   ],
   "source": [
    "episodes = 1_000_000\n",
    "t1 = time.perf_counter()\n",
    "main = Environment(10)\n",
    "main.train(episodes=episodes)\n",
    "t2 = time.perf_counter()\n",
    "print(\"Solution was found after {:.2f}s and {} episodes.\".format(t2-t1,episodes))"
   ]
  },
  {
   "cell_type": "code",
   "execution_count": 3,
   "metadata": {},
   "outputs": [
    {
     "data": {
      "text/plain": [
       "'Success'"
      ]
     },
     "execution_count": 3,
     "metadata": {},
     "output_type": "execute_result"
    }
   ],
   "source": [
    "main.test_run()"
   ]
  },
  {
   "cell_type": "code",
   "execution_count": null,
   "metadata": {},
   "outputs": [],
   "source": [
    "n_sucesses = main.last_n_sucesses(20)\n",
    "\n",
    "plt.plot(np.arange(len(n_sucesses)), n_sucesses)"
   ]
  }
 ],
 "metadata": {
  "kernelspec": {
   "display_name": "cloud",
   "language": "python",
   "name": "python3"
  },
  "language_info": {
   "codemirror_mode": {
    "name": "ipython",
    "version": 3
   },
   "file_extension": ".py",
   "mimetype": "text/x-python",
   "name": "python",
   "nbconvert_exporter": "python",
   "pygments_lexer": "ipython3",
   "version": "3.11.3 (main, Apr 19 2023, 23:54:32) [GCC 11.2.0]"
  },
  "orig_nbformat": 4,
  "vscode": {
   "interpreter": {
    "hash": "b50b488ed19a82ffb763673d779537ccd0fb24b351d90eb3b1b7186a362e330f"
   }
  }
 },
 "nbformat": 4,
 "nbformat_minor": 2
}
