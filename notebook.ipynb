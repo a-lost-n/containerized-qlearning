{
 "cells": [
  {
   "cell_type": "code",
   "execution_count": 2,
   "metadata": {},
   "outputs": [],
   "source": [
    "import gymnasium as gym\n",
    "from gymnasium.envs.toy_text.frozen_lake import generate_random_map\n",
    "from IPython.display import clear_output\n",
    "import numpy as np\n",
    "from qlearning import Environment\n",
    "import json"
   ]
  },
  {
   "cell_type": "code",
   "execution_count": 3,
   "metadata": {},
   "outputs": [
    {
     "data": {
      "text/plain": [
       "array(['SFFHFFFFFF', 'FFFFFFFFFF', 'FFFHFFFFHF', 'FFFHFFFFFF',\n",
       "       'FFFFFFFFHF', 'FFFHHFFFFF', 'FFFFFFFFFF', 'FFHFHFFFFF',\n",
       "       'FFFFFFFFHH', 'FFFFFFFFFG'], dtype='<U10')"
      ]
     },
     "execution_count": 3,
     "metadata": {},
     "output_type": "execute_result"
    }
   ],
   "source": [
    "message = json.dumps({'map': generate_random_map(10),\n",
    "            'qtable': np.zeros((10,4)).tolist()})\n",
    "\n",
    "np.array(json.loads(message)['map'])\n",
    "# message"
   ]
  },
  {
   "cell_type": "code",
   "execution_count": 4,
   "metadata": {},
   "outputs": [],
   "source": [
    "main = Environment(6)\n",
    "main.train(episodes=15000)"
   ]
  },
  {
   "cell_type": "code",
   "execution_count": 6,
   "metadata": {},
   "outputs": [
    {
     "data": {
      "text/plain": [
       "'Success'"
      ]
     },
     "execution_count": 6,
     "metadata": {},
     "output_type": "execute_result"
    }
   ],
   "source": [
    "main.test_run()"
   ]
  },
  {
   "cell_type": "code",
   "execution_count": null,
   "metadata": {},
   "outputs": [
    {
     "ename": "AttributeError",
     "evalue": "'Environment' object has no attribute 'outcomes'",
     "output_type": "error",
     "traceback": [
      "\u001b[0;31m---------------------------------------------------------------------------\u001b[0m",
      "\u001b[0;31mAttributeError\u001b[0m                            Traceback (most recent call last)",
      "Cell \u001b[0;32mIn[17], line 1\u001b[0m\n\u001b[0;32m----> 1\u001b[0m n_sucesses \u001b[39m=\u001b[39m main\u001b[39m.\u001b[39mlast_n_sucesses(\u001b[39m20\u001b[39m)\n\u001b[1;32m      3\u001b[0m plt\u001b[39m.\u001b[39mplot(np\u001b[39m.\u001b[39marange(\u001b[39mlen\u001b[39m(n_sucesses)), n_sucesses)\n",
      "File \u001b[0;32m~/cloud/proyecto/qlearning.py:63\u001b[0m, in \u001b[0;36mEnvironment.last_n_sucesses\u001b[0;34m(self, n)\u001b[0m\n\u001b[1;32m     61\u001b[0m last_n \u001b[39m=\u001b[39m []\n\u001b[1;32m     62\u001b[0m successes \u001b[39m=\u001b[39m \u001b[39m0\u001b[39m\n\u001b[0;32m---> 63\u001b[0m \u001b[39mfor\u001b[39;00m outcome \u001b[39min\u001b[39;00m \u001b[39mself\u001b[39m\u001b[39m.\u001b[39moutcomes:\n\u001b[1;32m     64\u001b[0m     last_n\u001b[39m.\u001b[39mappend(outcome)\n\u001b[1;32m     65\u001b[0m     \u001b[39mif\u001b[39;00m outcome \u001b[39m==\u001b[39m \u001b[39m'\u001b[39m\u001b[39mSuccess\u001b[39m\u001b[39m'\u001b[39m: successes \u001b[39m+\u001b[39m\u001b[39m=\u001b[39m \u001b[39m1\u001b[39m\n",
      "\u001b[0;31mAttributeError\u001b[0m: 'Environment' object has no attribute 'outcomes'"
     ]
    }
   ],
   "source": [
    "n_sucesses = main.last_n_sucesses(20)\n",
    "\n",
    "plt.plot(np.arange(len(n_sucesses)), n_sucesses)"
   ]
  }
 ],
 "metadata": {
  "kernelspec": {
   "display_name": "cloud",
   "language": "python",
   "name": "python3"
  },
  "language_info": {
   "codemirror_mode": {
    "name": "ipython",
    "version": 3
   },
   "file_extension": ".py",
   "mimetype": "text/x-python",
   "name": "python",
   "nbconvert_exporter": "python",
   "pygments_lexer": "ipython3",
   "version": "3.11.3"
  },
  "orig_nbformat": 4,
  "vscode": {
   "interpreter": {
    "hash": "b50b488ed19a82ffb763673d779537ccd0fb24b351d90eb3b1b7186a362e330f"
   }
  }
 },
 "nbformat": 4,
 "nbformat_minor": 2
}
