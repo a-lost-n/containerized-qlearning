{
 "cells": [
  {
   "cell_type": "code",
   "execution_count": null,
   "metadata": {},
   "outputs": [],
   "source": [
    "import gymnasium as gym\n",
    "from gymnasium.envs.toy_text.frozen_lake import generate_random_map\n",
    "from IPython.display import clear_output\n",
    "import numpy as np\n",
    "import time\n",
    "from qlearning import Environment"
   ]
  },
  {
   "cell_type": "code",
   "execution_count": null,
   "metadata": {},
   "outputs": [],
   "source": [
    "main = Environment(filename=\"model/model_backup.npz\")"
   ]
  },
  {
   "cell_type": "code",
   "execution_count": null,
   "metadata": {},
   "outputs": [],
   "source": [
    "print(main.qtable)"
   ]
  },
  {
   "cell_type": "code",
   "execution_count": null,
   "metadata": {},
   "outputs": [],
   "source": [
    "for _ in range(5):\n",
    "    episodes = 1_000_000\n",
    "    t1 = time.perf_counter()\n",
    "    main = Environment(10)\n",
    "    main.train(episodes=episodes)\n",
    "    t2 = time.perf_counter()\n",
    "    print(\"Solution was found after {:.2f}s and {} episodes.\".format(t2-t1,episodes))"
   ]
  },
  {
   "cell_type": "code",
   "execution_count": null,
   "metadata": {},
   "outputs": [],
   "source": [
    "main.test_run()"
   ]
  }
 ],
 "metadata": {
  "kernelspec": {
   "display_name": "cloud",
   "language": "python",
   "name": "python3"
  },
  "language_info": {
   "codemirror_mode": {
    "name": "ipython",
    "version": 3
   },
   "file_extension": ".py",
   "mimetype": "text/x-python",
   "name": "python",
   "nbconvert_exporter": "python",
   "pygments_lexer": "ipython3",
   "version": "3.11.3"
  },
  "orig_nbformat": 4,
  "vscode": {
   "interpreter": {
    "hash": "b50b488ed19a82ffb763673d779537ccd0fb24b351d90eb3b1b7186a362e330f"
   }
  }
 },
 "nbformat": 4,
 "nbformat_minor": 2
}
