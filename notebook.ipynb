{
 "cells": [
  {
   "cell_type": "code",
   "execution_count": 2,
   "metadata": {},
   "outputs": [],
   "source": [
    "import gymnasium as gym\n",
    "from gymnasium.envs.toy_text.frozen_lake import generate_random_map\n",
    "from IPython.display import clear_output\n",
    "import numpy as np\n",
    "from qlearning import Environment\n",
    "import json"
   ]
  },
  {
   "cell_type": "code",
   "execution_count": null,
   "metadata": {},
   "outputs": [],
   "source": [
    "message = json.dumps({'map': generate_random_map(10),\n",
    "            'qtable': np.zeros((10,4)).tolist()})\n",
    "\n",
    "np.array(json.loads(message)['map'])\n",
    "# message"
   ]
  },
  {
   "cell_type": "code",
   "execution_count": 8,
   "metadata": {},
   "outputs": [
    {
     "data": {
      "text/plain": [
       "'Success'"
      ]
     },
     "execution_count": 8,
     "metadata": {},
     "output_type": "execute_result"
    }
   ],
   "source": [
    "main = Environment(10)\n",
    "main.train(episodes=1000000)\n",
    "main.test_run()"
   ]
  },
  {
   "cell_type": "code",
   "execution_count": null,
   "metadata": {},
   "outputs": [],
   "source": [
    "n_sucesses = main.last_n_sucesses(20)\n",
    "\n",
    "plt.plot(np.arange(len(n_sucesses)), n_sucesses)"
   ]
  }
 ],
 "metadata": {
  "kernelspec": {
   "display_name": "cloud",
   "language": "python",
   "name": "python3"
  },
  "language_info": {
   "codemirror_mode": {
    "name": "ipython",
    "version": 3
   },
   "file_extension": ".py",
   "mimetype": "text/x-python",
   "name": "python",
   "nbconvert_exporter": "python",
   "pygments_lexer": "ipython3",
   "version": "3.11.3"
  },
  "orig_nbformat": 4,
  "vscode": {
   "interpreter": {
    "hash": "b50b488ed19a82ffb763673d779537ccd0fb24b351d90eb3b1b7186a362e330f"
   }
  }
 },
 "nbformat": 4,
 "nbformat_minor": 2
}
