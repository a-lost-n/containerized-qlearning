{
 "cells": [
  {
   "cell_type": "code",
   "execution_count": 1,
   "metadata": {},
   "outputs": [],
   "source": [
    "import gymnasium as gym\n",
    "from gymnasium.envs.toy_text.frozen_lake import generate_random_map\n",
    "from IPython.display import clear_output\n",
    "import random\n",
    "import numpy as np\n",
    "import matplotlib.pyplot as plt\n",
    "import time\n",
    "from qlearning import Environment"
   ]
  },
  {
   "cell_type": "code",
   "execution_count": 2,
   "metadata": {},
   "outputs": [],
   "source": [
    "main = Environment(6)\n",
    "episodes = 10000\n",
    "step = int(episodes/10)\n",
    "workers = 2"
   ]
  },
  {
   "cell_type": "code",
   "execution_count": 3,
   "metadata": {},
   "outputs": [],
   "source": [
    "w_vec = []\n",
    "for i in range(0, episodes, step):\n",
    "    for j in range(workers):\n",
    "        w_vec.append(main.copy())\n",
    "    for worker in w_vec:\n",
    "        worker.train(step)\n",
    "    main.qtable = w_vec[0].qtable\n",
    "    for j in range(1, workers):\n",
    "        main.qtable += w_vec[j].qtable\n",
    "    main.qtable = main.qtable/workers\n",
    "    w_vec.clear()\n",
    "    "
   ]
  },
  {
   "cell_type": "code",
   "execution_count": 4,
   "metadata": {},
   "outputs": [
    {
     "data": {
      "text/plain": [
       "'Success'"
      ]
     },
     "execution_count": 4,
     "metadata": {},
     "output_type": "execute_result"
    }
   ],
   "source": [
    "main.test_run()"
   ]
  },
  {
   "cell_type": "code",
   "execution_count": 5,
   "metadata": {},
   "outputs": [
    {
     "ename": "NameError",
     "evalue": "name 'environment' is not defined",
     "output_type": "error",
     "traceback": [
      "\u001b[0;31m---------------------------------------------------------------------------\u001b[0m",
      "\u001b[0;31mNameError\u001b[0m                                 Traceback (most recent call last)",
      "Cell \u001b[0;32mIn[5], line 1\u001b[0m\n\u001b[0;32m----> 1\u001b[0m environment\u001b[39m.\u001b[39mtrain(episodes\u001b[39m=\u001b[39m\u001b[39m10000\u001b[39m)\n",
      "\u001b[0;31mNameError\u001b[0m: name 'environment' is not defined"
     ]
    }
   ],
   "source": [
    "environment.train(episodes=10000)"
   ]
  },
  {
   "cell_type": "code",
   "execution_count": null,
   "metadata": {},
   "outputs": [
    {
     "ename": "AttributeError",
     "evalue": "'Environment' object has no attribute 'outcomes'",
     "output_type": "error",
     "traceback": [
      "\u001b[0;31m---------------------------------------------------------------------------\u001b[0m",
      "\u001b[0;31mAttributeError\u001b[0m                            Traceback (most recent call last)",
      "Cell \u001b[0;32mIn[17], line 1\u001b[0m\n\u001b[0;32m----> 1\u001b[0m n_sucesses \u001b[39m=\u001b[39m main\u001b[39m.\u001b[39mlast_n_sucesses(\u001b[39m20\u001b[39m)\n\u001b[1;32m      3\u001b[0m plt\u001b[39m.\u001b[39mplot(np\u001b[39m.\u001b[39marange(\u001b[39mlen\u001b[39m(n_sucesses)), n_sucesses)\n",
      "File \u001b[0;32m~/cloud/proyecto/qlearning.py:63\u001b[0m, in \u001b[0;36mEnvironment.last_n_sucesses\u001b[0;34m(self, n)\u001b[0m\n\u001b[1;32m     61\u001b[0m last_n \u001b[39m=\u001b[39m []\n\u001b[1;32m     62\u001b[0m successes \u001b[39m=\u001b[39m \u001b[39m0\u001b[39m\n\u001b[0;32m---> 63\u001b[0m \u001b[39mfor\u001b[39;00m outcome \u001b[39min\u001b[39;00m \u001b[39mself\u001b[39m\u001b[39m.\u001b[39moutcomes:\n\u001b[1;32m     64\u001b[0m     last_n\u001b[39m.\u001b[39mappend(outcome)\n\u001b[1;32m     65\u001b[0m     \u001b[39mif\u001b[39;00m outcome \u001b[39m==\u001b[39m \u001b[39m'\u001b[39m\u001b[39mSuccess\u001b[39m\u001b[39m'\u001b[39m: successes \u001b[39m+\u001b[39m\u001b[39m=\u001b[39m \u001b[39m1\u001b[39m\n",
      "\u001b[0;31mAttributeError\u001b[0m: 'Environment' object has no attribute 'outcomes'"
     ]
    }
   ],
   "source": [
    "n_sucesses = main.last_n_sucesses(20)\n",
    "\n",
    "plt.plot(np.arange(len(n_sucesses)), n_sucesses)"
   ]
  }
 ],
 "metadata": {
  "kernelspec": {
   "display_name": "cloud",
   "language": "python",
   "name": "python3"
  },
  "language_info": {
   "codemirror_mode": {
    "name": "ipython",
    "version": 3
   },
   "file_extension": ".py",
   "mimetype": "text/x-python",
   "name": "python",
   "nbconvert_exporter": "python",
   "pygments_lexer": "ipython3",
   "version": "3.11.3 (main, Apr 19 2023, 23:54:32) [GCC 11.2.0]"
  },
  "orig_nbformat": 4,
  "vscode": {
   "interpreter": {
    "hash": "b50b488ed19a82ffb763673d779537ccd0fb24b351d90eb3b1b7186a362e330f"
   }
  }
 },
 "nbformat": 4,
 "nbformat_minor": 2
}
